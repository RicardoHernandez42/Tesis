{
 "cells": [
  {
   "cell_type": "code",
   "execution_count": 1,
   "id": "34cce627",
   "metadata": {},
   "outputs": [
    {
     "name": "stderr",
     "output_type": "stream",
     "text": [
      "Using TensorFlow backend.\n"
     ]
    }
   ],
   "source": [
    "import numpy as np\n",
    "from keras.utils import to_categorical\n",
    "import matplotlib.pyplot as plt\n",
    "from keras.preprocessing.image import load_img, img_to_array\n",
    "import tensorflow as tf\n",
    "from tensorflow import keras\n",
    "from tensorflow.keras import datasets, layers, models\n",
    "from tensorflow.keras.models import load_model\n",
    "from keras.utils import CustomObjectScope\n",
    "from keras.initializers import glorot_uniform\n"
   ]
  },
  {
   "cell_type": "code",
   "execution_count": 2,
   "id": "bc1bcd80",
   "metadata": {},
   "outputs": [],
   "source": [
    "from sklearn.model_selection import train_test_split\n"
   ]
  },
  {
   "cell_type": "code",
   "execution_count": 3,
   "id": "f309e074",
   "metadata": {},
   "outputs": [],
   "source": [
    "import h5py\n",
    "from keras.models import Sequential,Input,Model\n",
    "from keras.layers import Dense, Dropout, Flatten\n",
    "from keras.layers import Conv2D, MaxPooling2D\n",
    "from keras.layers.normalization import BatchNormalization\n",
    "from keras.layers.advanced_activations import LeakyReLU\n"
   ]
  },
  {
   "cell_type": "code",
   "execution_count": 4,
   "id": "e311ce75",
   "metadata": {},
   "outputs": [],
   "source": [
    "model = load_model(\"/Users/richo/OneDrive - Fundacion Universidad de las Americas Puebla/Honores/CNN/CIFAR/model.h5\")\n"
   ]
  },
  {
   "cell_type": "code",
   "execution_count": 5,
   "id": "b7ade6f8",
   "metadata": {},
   "outputs": [],
   "source": [
    "def predict(file):\n",
    "  x = load_img(file, target_size=(32,32))\n",
    "  x = img_to_array(x)\n",
    "  x = np.expand_dims(x, axis=0)\n",
    "  array = model.predict(x)\n",
    "  result = array[0]\n",
    "  answer = np.argmax(result)\n",
    "  if answer == 0:\n",
    "    print(\"pred: Avión\")\n",
    "  elif answer == 1:\n",
    "    print(\"pred: Auto\")\n",
    "  elif answer == 2:\n",
    "    print(\"pred: Pájaro\")\n",
    "  elif answer == 3:\n",
    "    print(\"pred: Gato\")\n",
    "  elif answer == 4:\n",
    "    print(\"pred: Venado\")\n",
    "  elif answer == 5:\n",
    "    print(\"pred: Perros\")\n",
    "  elif answer == 6:\n",
    "    print(\"pred: Rana\")\n",
    "  elif answer == 7:\n",
    "    print(\"pred: Caballo\")\n",
    "  elif answer == 8:\n",
    "    print(\"pred: Barco\")\n",
    "  elif answer == 9:\n",
    "    print(\"pred: Camión\")\n",
    "  else:\n",
    "    print(\"pred: no perro\")\n",
    "    \n",
    "  return answer "
   ]
  },
  {
   "cell_type": "code",
   "execution_count": 7,
   "id": "e9475bf5",
   "metadata": {},
   "outputs": [
    {
     "name": "stdout",
     "output_type": "stream",
     "text": [
      "pred: Camión\n"
     ]
    },
    {
     "data": {
      "text/plain": [
       "9"
      ]
     },
     "execution_count": 7,
     "metadata": {},
     "output_type": "execute_result"
    }
   ],
   "source": [
    "predict('/Users/richo/Downloads/Filtro de gatito en Zoom.jpg')"
   ]
  },
  {
   "cell_type": "code",
   "execution_count": 9,
   "id": "9fba3620",
   "metadata": {},
   "outputs": [
    {
     "name": "stdout",
     "output_type": "stream",
     "text": [
      "pred: Barco\n"
     ]
    },
    {
     "data": {
      "text/plain": [
       "8"
      ]
     },
     "execution_count": 9,
     "metadata": {},
     "output_type": "execute_result"
    }
   ],
   "source": [
    "predict('/Users/richo/OneDrive - Fundacion Universidad de las Americas Puebla/Honores/CNN/Avión.jpeg')"
   ]
  },
  {
   "cell_type": "code",
   "execution_count": 10,
   "id": "6cf900ad",
   "metadata": {},
   "outputs": [
    {
     "name": "stdout",
     "output_type": "stream",
     "text": [
      "pred: Auto\n"
     ]
    },
    {
     "data": {
      "text/plain": [
       "1"
      ]
     },
     "execution_count": 10,
     "metadata": {},
     "output_type": "execute_result"
    }
   ],
   "source": [
    "predict('/Users/richo/OneDrive - Fundacion Universidad de las Americas Puebla/Honores/CNN/Auto.png')"
   ]
  },
  {
   "cell_type": "code",
   "execution_count": 11,
   "id": "ebdcbf09",
   "metadata": {},
   "outputs": [
    {
     "name": "stdout",
     "output_type": "stream",
     "text": [
      "pred: Auto\n"
     ]
    },
    {
     "data": {
      "text/plain": [
       "1"
      ]
     },
     "execution_count": 11,
     "metadata": {},
     "output_type": "execute_result"
    }
   ],
   "source": [
    "predict('/Users/richo/OneDrive - Fundacion Universidad de las Americas Puebla/Honores/CNN/Pájaro.jpeg')"
   ]
  },
  {
   "cell_type": "code",
   "execution_count": 12,
   "id": "33d503d4",
   "metadata": {},
   "outputs": [
    {
     "name": "stdout",
     "output_type": "stream",
     "text": [
      "pred: Barco\n"
     ]
    },
    {
     "data": {
      "text/plain": [
       "8"
      ]
     },
     "execution_count": 12,
     "metadata": {},
     "output_type": "execute_result"
    }
   ],
   "source": [
    "predict('/Users/richo/OneDrive - Fundacion Universidad de las Americas Puebla/Honores/CNN/Barco2.jpg')"
   ]
  },
  {
   "cell_type": "code",
   "execution_count": 13,
   "id": "7a2b252c",
   "metadata": {},
   "outputs": [
    {
     "name": "stdout",
     "output_type": "stream",
     "text": [
      "pred: Auto\n"
     ]
    },
    {
     "data": {
      "text/plain": [
       "1"
      ]
     },
     "execution_count": 13,
     "metadata": {},
     "output_type": "execute_result"
    }
   ],
   "source": [
    "predict('/Users/richo/OneDrive - Fundacion Universidad de las Americas Puebla/Honores/CNN/pajaro2.jpg')"
   ]
  },
  {
   "cell_type": "code",
   "execution_count": 14,
   "id": "f0a05764",
   "metadata": {},
   "outputs": [
    {
     "name": "stdout",
     "output_type": "stream",
     "text": [
      "pred: Avión\n"
     ]
    },
    {
     "data": {
      "text/plain": [
       "0"
      ]
     },
     "execution_count": 14,
     "metadata": {},
     "output_type": "execute_result"
    }
   ],
   "source": [
    "predict('/Users/richo/OneDrive - Fundacion Universidad de las Americas Puebla/Honores/CNN/gato.jpeg')\n"
   ]
  },
  {
   "cell_type": "code",
   "execution_count": null,
   "id": "4b5cef7f",
   "metadata": {},
   "outputs": [],
   "source": []
  },
  {
   "cell_type": "code",
   "execution_count": 10,
   "id": "8451ae6c",
   "metadata": {},
   "outputs": [
    {
     "name": "stdout",
     "output_type": "stream",
     "text": [
      "pred: Auto\n"
     ]
    },
    {
     "data": {
      "text/plain": [
       "1"
      ]
     },
     "execution_count": 10,
     "metadata": {},
     "output_type": "execute_result"
    }
   ],
   "source": [
    "predict('/Users/richo/OneDrive - Fundacion Universidad de las Americas Puebla/Honores/CNN/Venado.jpeg')"
   ]
  },
  {
   "cell_type": "code",
   "execution_count": 11,
   "id": "a566b477",
   "metadata": {},
   "outputs": [
    {
     "name": "stdout",
     "output_type": "stream",
     "text": [
      "pred: Caballo\n"
     ]
    },
    {
     "data": {
      "text/plain": [
       "7"
      ]
     },
     "execution_count": 11,
     "metadata": {},
     "output_type": "execute_result"
    }
   ],
   "source": [
    "predict('/Users/richo/OneDrive - Fundacion Universidad de las Americas Puebla/Honores/CNN/Perro.jpeg')"
   ]
  },
  {
   "cell_type": "code",
   "execution_count": 12,
   "id": "47355f7b",
   "metadata": {},
   "outputs": [
    {
     "name": "stdout",
     "output_type": "stream",
     "text": [
      "pred: Avión\n"
     ]
    },
    {
     "data": {
      "text/plain": [
       "0"
      ]
     },
     "execution_count": 12,
     "metadata": {},
     "output_type": "execute_result"
    }
   ],
   "source": [
    "predict('/Users/richo/OneDrive - Fundacion Universidad de las Americas Puebla/Honores/CNN/Rana.jpeg')"
   ]
  },
  {
   "cell_type": "code",
   "execution_count": 13,
   "id": "f2411ab0",
   "metadata": {},
   "outputs": [
    {
     "name": "stdout",
     "output_type": "stream",
     "text": [
      "pred: Barco\n"
     ]
    },
    {
     "data": {
      "text/plain": [
       "8"
      ]
     },
     "execution_count": 13,
     "metadata": {},
     "output_type": "execute_result"
    }
   ],
   "source": [
    "predict('/Users/richo/OneDrive - Fundacion Universidad de las Americas Puebla/Honores/CNN/Caballo.jpeg')"
   ]
  },
  {
   "cell_type": "code",
   "execution_count": 14,
   "id": "84eb0965",
   "metadata": {},
   "outputs": [
    {
     "name": "stdout",
     "output_type": "stream",
     "text": [
      "pred: Barco\n"
     ]
    },
    {
     "data": {
      "text/plain": [
       "8"
      ]
     },
     "execution_count": 14,
     "metadata": {},
     "output_type": "execute_result"
    }
   ],
   "source": [
    "predict('/Users/richo/OneDrive - Fundacion Universidad de las Americas Puebla/Honores/CNN/Barco.jpeg')"
   ]
  },
  {
   "cell_type": "code",
   "execution_count": 9,
   "id": "eaa46582",
   "metadata": {},
   "outputs": [
    {
     "name": "stdout",
     "output_type": "stream",
     "text": [
      "pred: Camión\n"
     ]
    },
    {
     "data": {
      "text/plain": [
       "9"
      ]
     },
     "execution_count": 9,
     "metadata": {},
     "output_type": "execute_result"
    }
   ],
   "source": [
    "predict('/Users/richo/OneDrive - Fundacion Universidad de las Americas Puebla/Honores/CNN/Camión.jpeg')"
   ]
  },
  {
   "cell_type": "code",
   "execution_count": 19,
   "id": "113ff485",
   "metadata": {},
   "outputs": [
    {
     "name": "stdout",
     "output_type": "stream",
     "text": [
      "pred: Barco\n"
     ]
    },
    {
     "data": {
      "text/plain": [
       "8"
      ]
     },
     "execution_count": 19,
     "metadata": {},
     "output_type": "execute_result"
    }
   ],
   "source": [
    "\n",
    "predict('/Users/richo/OneDrive - Fundacion Universidad de las Americas Puebla/Honores/CNN/u.png')"
   ]
  },
  {
   "cell_type": "code",
   "execution_count": 21,
   "id": "68480ed1",
   "metadata": {},
   "outputs": [],
   "source": [
    "def predict2(file):\n",
    "  x = load_img(file, target_size=(1700, 5))\n",
    "  x = img_to_array(x)\n",
    "  x = np.expand_dims(x, axis=0)\n",
    "  array = model.predict(x)\n",
    "  result = array[0]\n",
    "  answer = np.argmax(result)\n",
    "  if answer == 0:\n",
    "    print(\"pred: Avión\")\n",
    "  elif answer == 1:\n",
    "    print(\"pred: Auto\")\n",
    "  elif answer == 2:\n",
    "    print(\"pred: Pájaro\")\n",
    "  elif answer == 3:\n",
    "    print(\"pred: Gato\")\n",
    "  elif answer == 4:\n",
    "    print(\"pred: Venado\")\n",
    "  elif answer == 5:\n",
    "    print(\"pred: Perros\")\n",
    "  elif answer == 6:\n",
    "    print(\"pred: Rana\")\n",
    "  elif answer == 7:\n",
    "    print(\"pred: Caballo\")\n",
    "  elif answer == 8:\n",
    "    print(\"pred: Barco\")\n",
    "  elif answer == 9:\n",
    "    print(\"pred: Camión\")\n",
    "    \n",
    "  return answer "
   ]
  },
  {
   "cell_type": "code",
   "execution_count": 25,
   "id": "2515678f",
   "metadata": {},
   "outputs": [
    {
     "ename": "AttributeError",
     "evalue": "'PngImageFile' object has no attribute 'reshape'",
     "output_type": "error",
     "traceback": [
      "\u001b[0;31m---------------------------------------------------------------------------\u001b[0m",
      "\u001b[0;31mAttributeError\u001b[0m                            Traceback (most recent call last)",
      "\u001b[0;32m<ipython-input-25-c3eb4295b76f>\u001b[0m in \u001b[0;36m<module>\u001b[0;34m\u001b[0m\n\u001b[1;32m      1\u001b[0m \u001b[0mim_1\u001b[0m \u001b[0;34m=\u001b[0m \u001b[0mImage\u001b[0m\u001b[0;34m.\u001b[0m\u001b[0mopen\u001b[0m\u001b[0;34m(\u001b[0m\u001b[0;34m'/Users/richo/OneDrive - Fundacion Universidad de las Americas Puebla/Honores/CNN/prueba.png'\u001b[0m\u001b[0;34m)\u001b[0m\u001b[0;34m\u001b[0m\u001b[0;34m\u001b[0m\u001b[0m\n\u001b[0;32m----> 2\u001b[0;31m \u001b[0mpredict2\u001b[0m\u001b[0;34m(\u001b[0m\u001b[0mim_1\u001b[0m\u001b[0;34m.\u001b[0m\u001b[0mreshape\u001b[0m\u001b[0;34m(\u001b[0m\u001b[0;36m32\u001b[0m\u001b[0;34m,\u001b[0m\u001b[0;36m32\u001b[0m\u001b[0;34m)\u001b[0m\u001b[0;34m)\u001b[0m\u001b[0;34m\u001b[0m\u001b[0;34m\u001b[0m\u001b[0m\n\u001b[0m",
      "\u001b[0;31mAttributeError\u001b[0m: 'PngImageFile' object has no attribute 'reshape'"
     ]
    }
   ],
   "source": [
    "im_1 = Image.open('/Users/richo/OneDrive - Fundacion Universidad de las Americas Puebla/Honores/CNN/prueba.png')\n",
    "predict2(im_1.reshape(32,32))"
   ]
  },
  {
   "cell_type": "raw",
   "id": "c29b30f7",
   "metadata": {},
   "source": [
    "predict('/Volumes/ADATA/Entrenamiento/LC_98_completo_promedio.txt')"
   ]
  },
  {
   "cell_type": "code",
   "execution_count": null,
   "id": "06b57d3b",
   "metadata": {},
   "outputs": [],
   "source": []
  }
 ],
 "metadata": {
  "kernelspec": {
   "display_name": "Python 3",
   "language": "python",
   "name": "python3"
  },
  "language_info": {
   "codemirror_mode": {
    "name": "ipython",
    "version": 3
   },
   "file_extension": ".py",
   "mimetype": "text/x-python",
   "name": "python",
   "nbconvert_exporter": "python",
   "pygments_lexer": "ipython3",
   "version": "3.7.10"
  }
 },
 "nbformat": 4,
 "nbformat_minor": 5
}
